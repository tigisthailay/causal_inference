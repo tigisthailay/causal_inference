{
 "cells": [
  {
   "cell_type": "markdown",
   "id": "0a478444",
   "metadata": {},
   "source": [
    "import important libraries"
   ]
  },
  {
   "cell_type": "code",
   "execution_count": 1,
   "id": "ebd3def5",
   "metadata": {},
   "outputs": [],
   "source": [
    "import dvc.api\n",
    "import pandas as pd\n",
    "import numpy as np\n",
    "import matplotlib.pyplot as plt\n",
    "import seaborn as sns\n",
    "import plotly.graph_objects as go\n",
    "import sys, os"
   ]
  },
  {
   "cell_type": "markdown",
   "id": "c26bf70c",
   "metadata": {},
   "source": [
    "Import required Modules"
   ]
  },
  {
   "cell_type": "code",
   "execution_count": null,
   "id": "8dfc2ab6",
   "metadata": {},
   "outputs": [],
   "source": [
    "sys.path.append(os.path.abspath(os.path.join('../scripts')))\n",
    "from load_data import LoadData\n",
    "from plot import Plot\n",
    "from overview import Overview\n",
    "from preprocessing import PreProcess"
   ]
  }
 ],
 "metadata": {
  "kernelspec": {
   "display_name": "Python 3 (ipykernel)",
   "language": "python",
   "name": "python3"
  },
  "language_info": {
   "codemirror_mode": {
    "name": "ipython",
    "version": 3
   },
   "file_extension": ".py",
   "mimetype": "text/x-python",
   "name": "python",
   "nbconvert_exporter": "python",
   "pygments_lexer": "ipython3",
   "version": "3.9.12"
  }
 },
 "nbformat": 4,
 "nbformat_minor": 5
}
