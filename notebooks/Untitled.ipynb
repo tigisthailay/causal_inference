{
 "cells": [
  {
   "cell_type": "markdown",
   "id": "6eff41a6",
   "metadata": {},
   "source": [
    "import important libraries"
   ]
  },
  {
   "cell_type": "code",
   "execution_count": 1,
   "id": "c0315b68",
   "metadata": {},
   "outputs": [],
   "source": [
    "import dvc.api\n",
    "import pandas as pd\n",
    "import numpy as np\n",
    "import matplotlib.pyplot as plt\n",
    "import seaborn as sns\n",
    "import plotly.graph_objects as go\n",
    "import sys, os"
   ]
  },
  {
   "cell_type": "markdown",
   "id": "96cf0096",
   "metadata": {},
   "source": [
    "Import required Modules"
   ]
  },
  {
   "cell_type": "code",
   "execution_count": 2,
   "id": "534e1a86",
   "metadata": {},
   "outputs": [],
   "source": [
    "sys.path.append(os.path.abspath(os.path.join('../scripts')))\n",
    "from file import Myfile\n",
    "from preprocessing import Preprocess\n",
    "#from loader import LoadData"
   ]
  },
  {
   "cell_type": "markdown",
   "id": "441704be",
   "metadata": {},
   "source": [
    "##### Initialize class"
   ]
  },
  {
   "cell_type": "code",
   "execution_count": 3,
   "id": "7df8e881",
   "metadata": {},
   "outputs": [],
   "source": [
    "file = Myfile()\n",
    "preprocess = Preprocess()"
   ]
  },
  {
   "cell_type": "markdown",
   "id": "b34dcb5c",
   "metadata": {},
   "source": [
    "Loading the Data"
   ]
  },
  {
   "cell_type": "code",
   "execution_count": 34,
   "id": "a75b346c",
   "metadata": {},
   "outputs": [],
   "source": [
    "date = ['Trip Start Time', 'Trip End Time'] # the date column name\n",
    "missing_values = [\"n/a\", \"na\", \"undefined\", '?', 'NA', 'undefined']"
   ]
  },
  {
   "cell_type": "code",
   "execution_count": 49,
   "id": "9a93d205",
   "metadata": {},
   "outputs": [],
   "source": [
    "#nbdf = file.read_csv('../data/nb.csv', na_values=missing_values)\n",
    "nbdf = pd.read_csv('../data/nb.csv', na_values=missing_values)"
   ]
  },
  {
   "cell_type": "code",
   "execution_count": 50,
   "id": "c25e3ff0",
   "metadata": {},
   "outputs": [
    {
     "data": {
      "text/html": [
       "<div>\n",
       "<style scoped>\n",
       "    .dataframe tbody tr th:only-of-type {\n",
       "        vertical-align: middle;\n",
       "    }\n",
       "\n",
       "    .dataframe tbody tr th {\n",
       "        vertical-align: top;\n",
       "    }\n",
       "\n",
       "    .dataframe thead th {\n",
       "        text-align: right;\n",
       "    }\n",
       "</style>\n",
       "<table border=\"1\" class=\"dataframe\">\n",
       "  <thead>\n",
       "    <tr style=\"text-align: right;\">\n",
       "      <th></th>\n",
       "      <th>Trip ID</th>\n",
       "      <th>Trip Origin</th>\n",
       "      <th>Trip Destination</th>\n",
       "      <th>Trip Start Time</th>\n",
       "      <th>Trip End Time</th>\n",
       "    </tr>\n",
       "  </thead>\n",
       "  <tbody>\n",
       "    <tr>\n",
       "      <th>0</th>\n",
       "      <td>391996</td>\n",
       "      <td>6.508813001668548,3.37740316890347</td>\n",
       "      <td>6.650969799999999,3.3450307</td>\n",
       "      <td>2021-07-01 07:28:04</td>\n",
       "      <td>2021-07-01 07:29:37</td>\n",
       "    </tr>\n",
       "    <tr>\n",
       "      <th>1</th>\n",
       "      <td>391997</td>\n",
       "      <td>6.4316714,3.4555375</td>\n",
       "      <td>6.4280814653326,3.4721885847586</td>\n",
       "      <td>2021-07-01 06:38:04</td>\n",
       "      <td>2021-07-01 07:07:28</td>\n",
       "    </tr>\n",
       "    <tr>\n",
       "      <th>2</th>\n",
       "      <td>391998</td>\n",
       "      <td>6.631679399999999,3.3388976</td>\n",
       "      <td>6.508324099999999,3.3590397</td>\n",
       "      <td>2021-07-01 06:21:02</td>\n",
       "      <td>2021-07-01 07:02:23</td>\n",
       "    </tr>\n",
       "    <tr>\n",
       "      <th>3</th>\n",
       "      <td>391999</td>\n",
       "      <td>6.572757200000001,3.3677082</td>\n",
       "      <td>6.584881099999999,3.3614073</td>\n",
       "      <td>2021-07-01 07:16:07</td>\n",
       "      <td>2021-07-01 07:29:42</td>\n",
       "    </tr>\n",
       "    <tr>\n",
       "      <th>4</th>\n",
       "      <td>392001</td>\n",
       "      <td>6.6010417,3.2766339</td>\n",
       "      <td>6.4501069,3.3916154</td>\n",
       "      <td>2021-07-01 09:30:59</td>\n",
       "      <td>2021-07-01 09:34:36</td>\n",
       "    </tr>\n",
       "  </tbody>\n",
       "</table>\n",
       "</div>"
      ],
      "text/plain": [
       "   Trip ID                         Trip Origin  \\\n",
       "0   391996  6.508813001668548,3.37740316890347   \n",
       "1   391997                 6.4316714,3.4555375   \n",
       "2   391998         6.631679399999999,3.3388976   \n",
       "3   391999         6.572757200000001,3.3677082   \n",
       "4   392001                 6.6010417,3.2766339   \n",
       "\n",
       "                  Trip Destination      Trip Start Time        Trip End Time  \n",
       "0      6.650969799999999,3.3450307  2021-07-01 07:28:04  2021-07-01 07:29:37  \n",
       "1  6.4280814653326,3.4721885847586  2021-07-01 06:38:04  2021-07-01 07:07:28  \n",
       "2      6.508324099999999,3.3590397  2021-07-01 06:21:02  2021-07-01 07:02:23  \n",
       "3      6.584881099999999,3.3614073  2021-07-01 07:16:07  2021-07-01 07:29:42  \n",
       "4              6.4501069,3.3916154  2021-07-01 09:30:59  2021-07-01 09:34:36  "
      ]
     },
     "execution_count": 50,
     "metadata": {},
     "output_type": "execute_result"
    }
   ],
   "source": [
    "nbdf.head()"
   ]
  },
  {
   "cell_type": "markdown",
   "id": "1b8aedc8",
   "metadata": {},
   "source": [
    "Data information"
   ]
  },
  {
   "cell_type": "code",
   "execution_count": 51,
   "id": "41dbf394",
   "metadata": {},
   "outputs": [
    {
     "data": {
      "text/plain": [
       "(536020, 5)"
      ]
     },
     "execution_count": 51,
     "metadata": {},
     "output_type": "execute_result"
    }
   ],
   "source": [
    "nbdf.shape"
   ]
  },
  {
   "cell_type": "code",
   "execution_count": 52,
   "id": "3ef5e52a",
   "metadata": {},
   "outputs": [
    {
     "name": "stdout",
     "output_type": "stream",
     "text": [
      "<class 'pandas.core.frame.DataFrame'>\n",
      "RangeIndex: 536020 entries, 0 to 536019\n",
      "Data columns (total 5 columns):\n",
      " #   Column            Non-Null Count   Dtype \n",
      "---  ------            --------------   ----- \n",
      " 0   Trip ID           536020 non-null  int64 \n",
      " 1   Trip Origin       536020 non-null  object\n",
      " 2   Trip Destination  536020 non-null  object\n",
      " 3   Trip Start Time   534369 non-null  object\n",
      " 4   Trip End Time     536019 non-null  object\n",
      "dtypes: int64(1), object(4)\n",
      "memory usage: 20.4+ MB\n"
     ]
    }
   ],
   "source": [
    "nbdf.info()"
   ]
  },
  {
   "cell_type": "code",
   "execution_count": 53,
   "id": "569ab465",
   "metadata": {},
   "outputs": [
    {
     "data": {
      "text/plain": [
       "Index(['Trip ID', 'Trip Origin', 'Trip Destination', 'Trip Start Time',\n",
       "       'Trip End Time'],\n",
       "      dtype='object')"
      ]
     },
     "execution_count": 53,
     "metadata": {},
     "output_type": "execute_result"
    }
   ],
   "source": [
    "nbdf.columns"
   ]
  },
  {
   "cell_type": "code",
   "execution_count": null,
   "id": "8d198d73",
   "metadata": {},
   "outputs": [],
   "source": [
    "nbdf.describe()"
   ]
  },
  {
   "cell_type": "markdown",
   "id": "2b0075f0",
   "metadata": {},
   "source": [
    "#### Pre-Processing"
   ]
  },
  {
   "cell_type": "markdown",
   "id": "59d6f0bb",
   "metadata": {},
   "source": [
    "##### Handling datatypes\n",
    "let convert the Trip Start Time and Trip End Time to date time datatype and the Trip Origin and trip Destination to numeric values."
   ]
  },
  {
   "cell_type": "code",
   "execution_count": 54,
   "id": "23d9f3b8",
   "metadata": {},
   "outputs": [],
   "source": [
    "nbdf = preprocess.convert_to_datetime(nbdf, 'Trip Start Time')\n",
    "nbdf = preprocess.convert_to_datetime(nbdf, 'Trip End Time')"
   ]
  },
  {
   "cell_type": "code",
   "execution_count": 55,
   "id": "0c4fab1b",
   "metadata": {},
   "outputs": [],
   "source": [
    "#converting object type to float\n",
    "#link: https://stackoverflow.com/questions/43987237/convert-multiple-datatype-to-float \n",
    "nbdf[['Trip Origin','Trip Destination']] = nbdf[['Trip Origin','Trip Destination']].apply(pd.to_numeric, errors='coerce') "
   ]
  },
  {
   "cell_type": "code",
   "execution_count": 56,
   "id": "567543bc",
   "metadata": {},
   "outputs": [
    {
     "name": "stdout",
     "output_type": "stream",
     "text": [
      "<class 'pandas.core.frame.DataFrame'>\n",
      "RangeIndex: 536020 entries, 0 to 536019\n",
      "Data columns (total 5 columns):\n",
      " #   Column            Non-Null Count   Dtype         \n",
      "---  ------            --------------   -----         \n",
      " 0   Trip ID           536020 non-null  int64         \n",
      " 1   Trip Origin       0 non-null       float64       \n",
      " 2   Trip Destination  0 non-null       float64       \n",
      " 3   Trip Start Time   534369 non-null  datetime64[ns]\n",
      " 4   Trip End Time     536019 non-null  datetime64[ns]\n",
      "dtypes: datetime64[ns](2), float64(2), int64(1)\n",
      "memory usage: 20.4 MB\n"
     ]
    }
   ],
   "source": [
    "nbdf.info()"
   ]
  },
  {
   "cell_type": "markdown",
   "id": "1871b51b",
   "metadata": {},
   "source": [
    "##### Null Percentage"
   ]
  },
  {
   "cell_type": "code",
   "execution_count": 57,
   "id": "78a168e7",
   "metadata": {},
   "outputs": [
    {
     "name": "stdout",
     "output_type": "stream",
     "text": [
      " Null Percentage :                    Total      %\n",
      "Trip Origin       536020  100.0\n",
      "Trip Destination  536020  100.0\n",
      "Trip Start Time     1651    0.3\n",
      "Trip End Time          1    0.0\n",
      "Trip ID                0    0.0 %\n"
     ]
    }
   ],
   "source": [
    "#nullpercentage\n",
    "print(f\" Null Percentage : {preprocess.get_missing_data_percentage(nbdf)} %\")"
   ]
  },
  {
   "cell_type": "markdown",
   "id": "436795e4",
   "metadata": {},
   "source": [
    "##### Handling Missing values\n",
    "from the above null percentage we have got the columns of Trip Start Time and Trip End Time. so let us handle it."
   ]
  },
  {
   "cell_type": "code",
   "execution_count": 59,
   "id": "a2c7c394",
   "metadata": {},
   "outputs": [],
   "source": [
    "#nbdf = preprocess.drop_duplicate(nbdf)"
   ]
  },
  {
   "cell_type": "code",
   "execution_count": 60,
   "id": "9cd524b8",
   "metadata": {},
   "outputs": [
    {
     "data": {
      "text/plain": [
       "(391996, 1637709)"
      ]
     },
     "execution_count": 60,
     "metadata": {},
     "output_type": "execute_result"
    }
   ],
   "source": [
    "nbdf['Trip ID'].min(), nbdf['Trip ID'].max()"
   ]
  },
  {
   "cell_type": "code",
   "execution_count": 61,
   "id": "ca96c462",
   "metadata": {},
   "outputs": [
    {
     "data": {
      "text/plain": [
       "<bound method Series.unique of 391996     1\n",
       "1180070    1\n",
       "1180061    1\n",
       "1180060    1\n",
       "1180059    1\n",
       "          ..\n",
       "789757     1\n",
       "789755     1\n",
       "789751     1\n",
       "789750     1\n",
       "1637709    1\n",
       "Name: Trip ID, Length: 536020, dtype: int64>"
      ]
     },
     "execution_count": 61,
     "metadata": {},
     "output_type": "execute_result"
    }
   ],
   "source": [
    "nbdf['Trip ID'].value_counts().unique"
   ]
  },
  {
   "cell_type": "code",
   "execution_count": null,
   "id": "d42caa2b",
   "metadata": {},
   "outputs": [],
   "source": []
  }
 ],
 "metadata": {
  "kernelspec": {
   "display_name": "Python 3 (ipykernel)",
   "language": "python",
   "name": "python3"
  },
  "language_info": {
   "codemirror_mode": {
    "name": "ipython",
    "version": 3
   },
   "file_extension": ".py",
   "mimetype": "text/x-python",
   "name": "python",
   "nbconvert_exporter": "python",
   "pygments_lexer": "ipython3",
   "version": "3.9.12"
  }
 },
 "nbformat": 4,
 "nbformat_minor": 5
}
