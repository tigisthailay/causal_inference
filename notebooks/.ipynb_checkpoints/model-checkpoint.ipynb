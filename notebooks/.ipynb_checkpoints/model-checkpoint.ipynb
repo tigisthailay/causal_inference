{
 "cells": [
  {
   "cell_type": "markdown",
   "id": "aede9f00",
   "metadata": {},
   "source": [
    "###### Modelling using ML Algorithms"
   ]
  },
  {
   "cell_type": "code",
   "execution_count": 17,
   "id": "08ad4b40",
   "metadata": {},
   "outputs": [],
   "source": [
    "# importing libraries\n",
    "import warnings\n",
    "import numpy as np\n",
    "import pandas as pd\n",
    "import seaborn as sns\n",
    "import matplotlib.pyplot as plt\n",
    "#from logesticRegressionModel import LogesticRegressionModel\n",
    "from sklearn.model_selection import train_test_split\n",
    "from sklearn.preprocessing import MinMaxScaler\n",
    "from sklearn.ensemble import RandomForestClassifier\n",
    "from sklearn.preprocessing import LabelEncoder"
   ]
  },
  {
   "cell_type": "code",
   "execution_count": null,
   "id": "634c30b5",
   "metadata": {},
   "outputs": [],
   "source": [
    "sns.set()\n",
    "%matplotlib inline\n",
    "warnings.filterwarnings(\"ignore\")\n",
    "pd.set_option('display.max_columns', None)\n",
    "pd.set_option('display.max_colwidth', None)\n",
    "pd.set_option(\"expand_frame_repr\", False)\n",
    "pd.set_option('display.float_format', '{:.2f}'.format)"
   ]
  },
  {
   "cell_type": "code",
   "execution_count": 2,
   "id": "be095a19",
   "metadata": {},
   "outputs": [],
   "source": [
    "import os\n",
    "import sys\n",
    "sys.path.append(os.path.abspath(os.path.join('../scripts')))"
   ]
  },
  {
   "cell_type": "code",
   "execution_count": 3,
   "id": "5275d7d4",
   "metadata": {},
   "outputs": [],
   "source": [
    "from file import Myfile\n",
    "from utils import Utils"
   ]
  },
  {
   "cell_type": "code",
   "execution_count": 4,
   "id": "97def555",
   "metadata": {},
   "outputs": [],
   "source": [
    "file = Myfile()\n",
    "utils = Utils()"
   ]
  },
  {
   "cell_type": "code",
   "execution_count": 5,
   "id": "ad4fb05f",
   "metadata": {},
   "outputs": [
    {
     "name": "stdout",
     "output_type": "stream",
     "text": [
      "--> file read as csv\n"
     ]
    }
   ],
   "source": [
    "\n",
    "df = file.read_csv(\"../data/causaldata.csv\")"
   ]
  },
  {
   "cell_type": "code",
   "execution_count": 6,
   "id": "31119903",
   "metadata": {},
   "outputs": [
    {
     "data": {
      "text/html": [
       "<div>\n",
       "<style scoped>\n",
       "    .dataframe tbody tr th:only-of-type {\n",
       "        vertical-align: middle;\n",
       "    }\n",
       "\n",
       "    .dataframe tbody tr th {\n",
       "        vertical-align: top;\n",
       "    }\n",
       "\n",
       "    .dataframe thead th {\n",
       "        text-align: right;\n",
       "    }\n",
       "</style>\n",
       "<table border=\"1\" class=\"dataframe\">\n",
       "  <thead>\n",
       "    <tr style=\"text-align: right;\">\n",
       "      <th></th>\n",
       "      <th>Trip ID</th>\n",
       "      <th>Trip Origin</th>\n",
       "      <th>Trip Destination</th>\n",
       "      <th>Trip Start Time</th>\n",
       "      <th>Trip End Time</th>\n",
       "      <th>Distance</th>\n",
       "      <th>Speed</th>\n",
       "      <th>driver_action</th>\n",
       "      <th>is_weekend</th>\n",
       "      <th>is_holiday</th>\n",
       "    </tr>\n",
       "  </thead>\n",
       "  <tbody>\n",
       "    <tr>\n",
       "      <th>1555713</th>\n",
       "      <td>517948</td>\n",
       "      <td>6.443373599999999,3.5523123</td>\n",
       "      <td>6.500608199999999,3.5981937</td>\n",
       "      <td>2021-09-10 11:47:26</td>\n",
       "      <td>2021-09-10 13:30:13</td>\n",
       "      <td>8.112927</td>\n",
       "      <td>6167.0</td>\n",
       "      <td>rejected</td>\n",
       "      <td>0</td>\n",
       "      <td>0</td>\n",
       "    </tr>\n",
       "    <tr>\n",
       "      <th>1555714</th>\n",
       "      <td>517948</td>\n",
       "      <td>6.443373599999999,3.5523123</td>\n",
       "      <td>6.500608199999999,3.5981937</td>\n",
       "      <td>2021-09-10 11:47:26</td>\n",
       "      <td>2021-09-10 13:30:13</td>\n",
       "      <td>8.112927</td>\n",
       "      <td>6167.0</td>\n",
       "      <td>rejected</td>\n",
       "      <td>0</td>\n",
       "      <td>0</td>\n",
       "    </tr>\n",
       "    <tr>\n",
       "      <th>1555715</th>\n",
       "      <td>517948</td>\n",
       "      <td>6.443373599999999,3.5523123</td>\n",
       "      <td>6.500608199999999,3.5981937</td>\n",
       "      <td>2021-09-10 11:47:26</td>\n",
       "      <td>2021-09-10 13:30:13</td>\n",
       "      <td>8.112927</td>\n",
       "      <td>6167.0</td>\n",
       "      <td>rejected</td>\n",
       "      <td>0</td>\n",
       "      <td>0</td>\n",
       "    </tr>\n",
       "    <tr>\n",
       "      <th>1555716</th>\n",
       "      <td>517948</td>\n",
       "      <td>6.443373599999999,3.5523123</td>\n",
       "      <td>6.500608199999999,3.5981937</td>\n",
       "      <td>2021-09-10 11:47:26</td>\n",
       "      <td>2021-09-10 13:30:13</td>\n",
       "      <td>8.112927</td>\n",
       "      <td>6167.0</td>\n",
       "      <td>rejected</td>\n",
       "      <td>0</td>\n",
       "      <td>0</td>\n",
       "    </tr>\n",
       "    <tr>\n",
       "      <th>1555717</th>\n",
       "      <td>517948</td>\n",
       "      <td>6.443373599999999,3.5523123</td>\n",
       "      <td>6.500608199999999,3.5981937</td>\n",
       "      <td>2021-09-10 11:47:26</td>\n",
       "      <td>2021-09-10 13:30:13</td>\n",
       "      <td>8.112927</td>\n",
       "      <td>6167.0</td>\n",
       "      <td>rejected</td>\n",
       "      <td>0</td>\n",
       "      <td>0</td>\n",
       "    </tr>\n",
       "  </tbody>\n",
       "</table>\n",
       "</div>"
      ],
      "text/plain": [
       "         Trip ID                  Trip Origin             Trip Destination  \\\n",
       "1555713   517948  6.443373599999999,3.5523123  6.500608199999999,3.5981937   \n",
       "1555714   517948  6.443373599999999,3.5523123  6.500608199999999,3.5981937   \n",
       "1555715   517948  6.443373599999999,3.5523123  6.500608199999999,3.5981937   \n",
       "1555716   517948  6.443373599999999,3.5523123  6.500608199999999,3.5981937   \n",
       "1555717   517948  6.443373599999999,3.5523123  6.500608199999999,3.5981937   \n",
       "\n",
       "             Trip Start Time        Trip End Time  Distance   Speed  \\\n",
       "1555713  2021-09-10 11:47:26  2021-09-10 13:30:13  8.112927  6167.0   \n",
       "1555714  2021-09-10 11:47:26  2021-09-10 13:30:13  8.112927  6167.0   \n",
       "1555715  2021-09-10 11:47:26  2021-09-10 13:30:13  8.112927  6167.0   \n",
       "1555716  2021-09-10 11:47:26  2021-09-10 13:30:13  8.112927  6167.0   \n",
       "1555717  2021-09-10 11:47:26  2021-09-10 13:30:13  8.112927  6167.0   \n",
       "\n",
       "        driver_action  is_weekend  is_holiday  \n",
       "1555713      rejected           0           0  \n",
       "1555714      rejected           0           0  \n",
       "1555715      rejected           0           0  \n",
       "1555716      rejected           0           0  \n",
       "1555717      rejected           0           0  "
      ]
     },
     "execution_count": 6,
     "metadata": {},
     "output_type": "execute_result"
    }
   ],
   "source": [
    "df.tail(5)"
   ]
  },
  {
   "cell_type": "code",
   "execution_count": 38,
   "id": "0570c153",
   "metadata": {},
   "outputs": [],
   "source": [
    "non_num_cols = list(df.select_dtypes(exclude=[np.number]).columns)\n",
    "le = LabelEncoder()\n",
    "for col in non_num_cols:\n",
    "    df[col] = le.fit_transform(df[col])\n"
   ]
  },
  {
   "cell_type": "markdown",
   "id": "62cdbb52",
   "metadata": {},
   "source": [
    "###### feature selction"
   ]
  },
  {
   "cell_type": "code",
   "execution_count": 39,
   "id": "459f85ed",
   "metadata": {},
   "outputs": [],
   "source": [
    "x = df.drop(['Trip ID', 'driver_action'], axis=1)"
   ]
  },
  {
   "cell_type": "code",
   "execution_count": 40,
   "id": "a7c7517f",
   "metadata": {},
   "outputs": [],
   "source": [
    "y = df['driver_action']"
   ]
  },
  {
   "cell_type": "code",
   "execution_count": 41,
   "id": "5957a442",
   "metadata": {},
   "outputs": [
    {
     "data": {
      "text/plain": [
       "1    1529847\n",
       "0      25871\n",
       "Name: driver_action, dtype: int64"
      ]
     },
     "execution_count": 41,
     "metadata": {},
     "output_type": "execute_result"
    }
   ],
   "source": [
    "y.value_counts()"
   ]
  },
  {
   "cell_type": "markdown",
   "id": "55aacb09",
   "metadata": {},
   "source": [
    "1: rejected, 0:accepted"
   ]
  },
  {
   "cell_type": "code",
   "execution_count": 42,
   "id": "8d260ead",
   "metadata": {},
   "outputs": [
    {
     "data": {
      "text/plain": [
       "((1555718, 8), (1555718,))"
      ]
     },
     "execution_count": 42,
     "metadata": {},
     "output_type": "execute_result"
    }
   ],
   "source": [
    "x.shape, y.shape"
   ]
  },
  {
   "cell_type": "code",
   "execution_count": 43,
   "id": "4f7f69e4",
   "metadata": {},
   "outputs": [],
   "source": [
    "#Train test split\n",
    "from sklearn.model_selection import train_test_split\n",
    "X_train, X_test, y_train, y_test = train_test_split(x, y, test_size=0.2, random_state=0)"
   ]
  },
  {
   "cell_type": "code",
   "execution_count": 47,
   "id": "38c5414e",
   "metadata": {},
   "outputs": [
    {
     "ename": "ModuleNotFoundError",
     "evalue": "No module named 'xGBClassifierModel'",
     "output_type": "error",
     "traceback": [
      "\u001b[1;31m---------------------------------------------------------------------------\u001b[0m",
      "\u001b[1;31mModuleNotFoundError\u001b[0m                       Traceback (most recent call last)",
      "Input \u001b[1;32mIn [47]\u001b[0m, in \u001b[0;36m<cell line: 1>\u001b[1;34m()\u001b[0m\n\u001b[1;32m----> 1\u001b[0m \u001b[38;5;28;01mfrom\u001b[39;00m \u001b[38;5;21;01mxGBClassifierModel\u001b[39;00m \u001b[38;5;28;01mimport\u001b[39;00m XGBClassifierModel\n\u001b[0;32m      2\u001b[0m boost_model \u001b[38;5;241m=\u001b[39m XGBClassifierModel(X_train, X_test, y_train, y_test)\n\u001b[0;32m      3\u001b[0m clf3, boost_acc_arr, boost_loss_arr \u001b[38;5;241m=\u001b[39m boost_model\u001b[38;5;241m.\u001b[39mtrain(folds \u001b[38;5;241m=\u001b[39m \u001b[38;5;241m2\u001b[39m)\n",
      "\u001b[1;31mModuleNotFoundError\u001b[0m: No module named 'xGBClassifierModel'"
     ]
    }
   ],
   "source": [
    "from xGBClassifierModel import XGBClassifierModel\n",
    "boost_model = XGBClassifierModel(X_train, X_test, y_train, y_test)\n",
    "clf3, boost_acc_arr, boost_loss_arr = boost_model.train(folds = 2)\n",
    "fd3 = boost_model.get_feature_importance()\n",
    "fig = plot_importance(fd3)"
   ]
  },
  {
   "cell_type": "code",
   "execution_count": 48,
   "id": "4c0160d5",
   "metadata": {},
   "outputs": [],
   "source": [
    "warnings.filterwarnings(\"ignore\")"
   ]
  },
  {
   "cell_type": "markdown",
   "id": "ff8d555e",
   "metadata": {},
   "source": [
    "###### XGboost "
   ]
  },
  {
   "cell_type": "code",
   "execution_count": 49,
   "id": "01d28ddc",
   "metadata": {},
   "outputs": [
    {
     "name": "stdout",
     "output_type": "stream",
     "text": [
      "Actual: 1004742    1\n",
      "95574      1\n",
      "1143161    1\n",
      "744548     1\n",
      "1199183    1\n",
      "679978     1\n",
      "989426     1\n",
      "865656     1\n",
      "1028013    1\n",
      "1078509    1\n",
      "Name: driver_action, dtype: int64\n"
     ]
    }
   ],
   "source": [
    "# Define XGBoost Model\n",
    "xgb = XGBClassifier(n_estimators=1000, learning_rate=0.05)\n",
    "# We fit our model with our train data\n",
    "xgb=xgb.fit(\n",
    "    X_train, y_train,\n",
    "    # That means if model don't improve it self in 5 rounds, it will stop learning\n",
    "    # So you can save your time and don't overtrain your model.\n",
    "    early_stopping_rounds=5,\n",
    "    # We provide Test data's to evaluate model performance\n",
    "    eval_set=[(X_test, y_test)],\n",
    "    verbose=False\n",
    " )\n",
    "# Then predict results from X_test data\n",
    "pred_xgb = xgb.predict(X_test)\n",
    "\n",
    "# See First 10 Predictions and They Actual Values\n",
    "# print(\"Predicted:\", pred_xgb[0:10])\n",
    "print(\"Actual:\", y_test[0:10])"
   ]
  },
  {
   "cell_type": "code",
   "execution_count": 58,
   "id": "58f02576",
   "metadata": {},
   "outputs": [],
   "source": [
    "score = xgb.score(X_test,y_test) "
   ]
  },
  {
   "cell_type": "code",
   "execution_count": 59,
   "id": "0bcde5f3",
   "metadata": {},
   "outputs": [
    {
     "data": {
      "text/plain": [
       "0.9835767361736045"
      ]
     },
     "execution_count": 59,
     "metadata": {},
     "output_type": "execute_result"
    }
   ],
   "source": [
    "score"
   ]
  },
  {
   "cell_type": "code",
   "execution_count": 60,
   "id": "2eb15eed",
   "metadata": {},
   "outputs": [
    {
     "data": {
      "text/plain": [
       "<_io.TextIOWrapper name='../score/XGboost.txt' mode='w' encoding='cp1252'>"
      ]
     },
     "execution_count": 60,
     "metadata": {},
     "output_type": "execute_result"
    }
   ],
   "source": [
    "open(\"../score/XGboost.txt\",'w')"
   ]
  },
  {
   "cell_type": "markdown",
   "id": "8d3b64c1",
   "metadata": {},
   "source": [
    "###### RandomForestClassifier"
   ]
  },
  {
   "cell_type": "code",
   "execution_count": 54,
   "id": "273380a3",
   "metadata": {},
   "outputs": [
    {
     "name": "stdout",
     "output_type": "stream",
     "text": [
      "score of model is :  0.9832264160645875\n"
     ]
    }
   ],
   "source": [
    " # create model variable\n",
    "r = RandomForestClassifier()\n",
    "  \n",
    "# fit the model\n",
    "fit_rnd = r.fit(X_train,y_train)\n",
    "  \n",
    "# checking the accuracy score\n",
    "score = r.score(X_test,y_test) \n",
    "print('score of model is : ',score)"
   ]
  },
  {
   "cell_type": "code",
   "execution_count": 55,
   "id": "67d68553",
   "metadata": {},
   "outputs": [
    {
     "data": {
      "text/plain": [
       "0.9832264160645875"
      ]
     },
     "execution_count": 55,
     "metadata": {},
     "output_type": "execute_result"
    }
   ],
   "source": [
    "score"
   ]
  },
  {
   "cell_type": "code",
   "execution_count": 57,
   "id": "7901cbf4",
   "metadata": {},
   "outputs": [
    {
     "data": {
      "text/plain": [
       "<_io.TextIOWrapper name='../score/RandomForest.txt' mode='w' encoding='cp1252'>"
      ]
     },
     "execution_count": 57,
     "metadata": {},
     "output_type": "execute_result"
    }
   ],
   "source": [
    "open(\"../score/RandomForest.txt\",'w')"
   ]
  },
  {
   "cell_type": "code",
   "execution_count": null,
   "id": "42db35bb",
   "metadata": {},
   "outputs": [],
   "source": []
  }
 ],
 "metadata": {
  "kernelspec": {
   "display_name": "Python 3 (ipykernel)",
   "language": "python",
   "name": "python3"
  },
  "language_info": {
   "codemirror_mode": {
    "name": "ipython",
    "version": 3
   },
   "file_extension": ".py",
   "mimetype": "text/x-python",
   "name": "python",
   "nbconvert_exporter": "python",
   "pygments_lexer": "ipython3",
   "version": "3.8.13"
  }
 },
 "nbformat": 4,
 "nbformat_minor": 5
}
