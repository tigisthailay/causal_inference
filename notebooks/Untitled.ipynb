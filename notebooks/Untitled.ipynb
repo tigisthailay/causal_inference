{
 "cells": [
  {
   "cell_type": "markdown",
   "id": "2a10464c",
   "metadata": {},
   "source": [
    "import important libraries"
   ]
  },
  {
   "cell_type": "code",
   "execution_count": 37,
   "id": "0c00321d",
   "metadata": {},
   "outputs": [],
   "source": [
    "import dvc.api\n",
    "import pandas as pd\n",
    "import numpy as np\n",
    "import matplotlib.pyplot as plt\n",
    "import seaborn as sns\n",
    "import plotly.graph_objects as go\n",
    "import sys, os"
   ]
  },
  {
   "cell_type": "markdown",
   "id": "8d7fa8ca",
   "metadata": {},
   "source": [
    "Import required Modules"
   ]
  },
  {
   "cell_type": "code",
   "execution_count": 38,
   "id": "af76ad37",
   "metadata": {},
   "outputs": [],
   "source": [
    "sys.path.append(os.path.abspath(os.path.join('../scripts')))\n",
    "from file import Myfile\n",
    "from preprocessing import Preprocess\n",
    "#from loader import LoadData"
   ]
  },
  {
   "cell_type": "markdown",
   "id": "540f02fe",
   "metadata": {},
   "source": [
    "##### Initialize class"
   ]
  },
  {
   "cell_type": "code",
   "execution_count": 39,
   "id": "52c96b85",
   "metadata": {},
   "outputs": [],
   "source": [
    "file = Myfile()\n",
    "preprocess = Preprocess()"
   ]
  },
  {
   "cell_type": "markdown",
   "id": "9ef5ef2a",
   "metadata": {},
   "source": [
    "Loading the Data"
   ]
  },
  {
   "cell_type": "code",
   "execution_count": 26,
   "id": "349fadf2",
   "metadata": {},
   "outputs": [
    {
     "name": "stdout",
     "output_type": "stream",
     "text": [
      "--> file read as csv\n"
     ]
    }
   ],
   "source": [
    "nbdf = file.read_csv('../data/nb.csv')"
   ]
  },
  {
   "cell_type": "code",
   "execution_count": 11,
   "id": "b68611cb",
   "metadata": {},
   "outputs": [
    {
     "data": {
      "text/html": [
       "<div>\n",
       "<style scoped>\n",
       "    .dataframe tbody tr th:only-of-type {\n",
       "        vertical-align: middle;\n",
       "    }\n",
       "\n",
       "    .dataframe tbody tr th {\n",
       "        vertical-align: top;\n",
       "    }\n",
       "\n",
       "    .dataframe thead th {\n",
       "        text-align: right;\n",
       "    }\n",
       "</style>\n",
       "<table border=\"1\" class=\"dataframe\">\n",
       "  <thead>\n",
       "    <tr style=\"text-align: right;\">\n",
       "      <th></th>\n",
       "      <th>Trip ID</th>\n",
       "      <th>Trip Origin</th>\n",
       "      <th>Trip Destination</th>\n",
       "      <th>Trip Start Time</th>\n",
       "      <th>Trip End Time</th>\n",
       "    </tr>\n",
       "  </thead>\n",
       "  <tbody>\n",
       "    <tr>\n",
       "      <th>0</th>\n",
       "      <td>391996</td>\n",
       "      <td>6.508813001668548,3.37740316890347</td>\n",
       "      <td>6.650969799999999,3.3450307</td>\n",
       "      <td>2021-07-01 07:28:04</td>\n",
       "      <td>2021-07-01 07:29:37</td>\n",
       "    </tr>\n",
       "    <tr>\n",
       "      <th>1</th>\n",
       "      <td>391997</td>\n",
       "      <td>6.4316714,3.4555375</td>\n",
       "      <td>6.4280814653326,3.4721885847586</td>\n",
       "      <td>2021-07-01 06:38:04</td>\n",
       "      <td>2021-07-01 07:07:28</td>\n",
       "    </tr>\n",
       "    <tr>\n",
       "      <th>2</th>\n",
       "      <td>391998</td>\n",
       "      <td>6.631679399999999,3.3388976</td>\n",
       "      <td>6.508324099999999,3.3590397</td>\n",
       "      <td>2021-07-01 06:21:02</td>\n",
       "      <td>2021-07-01 07:02:23</td>\n",
       "    </tr>\n",
       "    <tr>\n",
       "      <th>3</th>\n",
       "      <td>391999</td>\n",
       "      <td>6.572757200000001,3.3677082</td>\n",
       "      <td>6.584881099999999,3.3614073</td>\n",
       "      <td>2021-07-01 07:16:07</td>\n",
       "      <td>2021-07-01 07:29:42</td>\n",
       "    </tr>\n",
       "    <tr>\n",
       "      <th>4</th>\n",
       "      <td>392001</td>\n",
       "      <td>6.6010417,3.2766339</td>\n",
       "      <td>6.4501069,3.3916154</td>\n",
       "      <td>2021-07-01 09:30:59</td>\n",
       "      <td>2021-07-01 09:34:36</td>\n",
       "    </tr>\n",
       "  </tbody>\n",
       "</table>\n",
       "</div>"
      ],
      "text/plain": [
       "   Trip ID                         Trip Origin  \\\n",
       "0   391996  6.508813001668548,3.37740316890347   \n",
       "1   391997                 6.4316714,3.4555375   \n",
       "2   391998         6.631679399999999,3.3388976   \n",
       "3   391999         6.572757200000001,3.3677082   \n",
       "4   392001                 6.6010417,3.2766339   \n",
       "\n",
       "                  Trip Destination      Trip Start Time        Trip End Time  \n",
       "0      6.650969799999999,3.3450307  2021-07-01 07:28:04  2021-07-01 07:29:37  \n",
       "1  6.4280814653326,3.4721885847586  2021-07-01 06:38:04  2021-07-01 07:07:28  \n",
       "2      6.508324099999999,3.3590397  2021-07-01 06:21:02  2021-07-01 07:02:23  \n",
       "3      6.584881099999999,3.3614073  2021-07-01 07:16:07  2021-07-01 07:29:42  \n",
       "4              6.4501069,3.3916154  2021-07-01 09:30:59  2021-07-01 09:34:36  "
      ]
     },
     "execution_count": 11,
     "metadata": {},
     "output_type": "execute_result"
    }
   ],
   "source": [
    "nbdf.head()"
   ]
  },
  {
   "cell_type": "code",
   "execution_count": 12,
   "id": "e9e7426d",
   "metadata": {},
   "outputs": [],
   "source": [
    "#dldf = pd.read_csv('../data/driver_locations.csv')"
   ]
  },
  {
   "cell_type": "code",
   "execution_count": 14,
   "id": "a77653f6",
   "metadata": {},
   "outputs": [],
   "source": [
    "#dldf.head()"
   ]
  },
  {
   "cell_type": "markdown",
   "id": "579080e8",
   "metadata": {},
   "source": [
    "Data information"
   ]
  },
  {
   "cell_type": "code",
   "execution_count": 16,
   "id": "367014c1",
   "metadata": {},
   "outputs": [
    {
     "data": {
      "text/plain": [
       "(536020, 5)"
      ]
     },
     "execution_count": 16,
     "metadata": {},
     "output_type": "execute_result"
    }
   ],
   "source": [
    "nbdf.shape"
   ]
  },
  {
   "cell_type": "code",
   "execution_count": 31,
   "id": "b5cc6879",
   "metadata": {},
   "outputs": [
    {
     "name": "stdout",
     "output_type": "stream",
     "text": [
      "<class 'pandas.core.frame.DataFrame'>\n",
      "RangeIndex: 536020 entries, 0 to 536019\n",
      "Data columns (total 5 columns):\n",
      " #   Column            Non-Null Count   Dtype         \n",
      "---  ------            --------------   -----         \n",
      " 0   Trip ID           536020 non-null  int64         \n",
      " 1   Trip Origin       536020 non-null  object        \n",
      " 2   Trip Destination  536020 non-null  object        \n",
      " 3   Trip Start Time   534369 non-null  datetime64[ns]\n",
      " 4   Trip End Time     536019 non-null  datetime64[ns]\n",
      "dtypes: datetime64[ns](2), int64(1), object(2)\n",
      "memory usage: 20.4+ MB\n"
     ]
    }
   ],
   "source": [
    "nbdf.info()"
   ]
  },
  {
   "cell_type": "code",
   "execution_count": 17,
   "id": "7da05eaf",
   "metadata": {},
   "outputs": [
    {
     "data": {
      "text/plain": [
       "Index(['Trip ID', 'Trip Origin', 'Trip Destination', 'Trip Start Time',\n",
       "       'Trip End Time'],\n",
       "      dtype='object')"
      ]
     },
     "execution_count": 17,
     "metadata": {},
     "output_type": "execute_result"
    }
   ],
   "source": [
    "nbdf.columns"
   ]
  },
  {
   "cell_type": "code",
   "execution_count": 21,
   "id": "c2ae7730",
   "metadata": {},
   "outputs": [
    {
     "data": {
      "text/html": [
       "<div>\n",
       "<style scoped>\n",
       "    .dataframe tbody tr th:only-of-type {\n",
       "        vertical-align: middle;\n",
       "    }\n",
       "\n",
       "    .dataframe tbody tr th {\n",
       "        vertical-align: top;\n",
       "    }\n",
       "\n",
       "    .dataframe thead th {\n",
       "        text-align: right;\n",
       "    }\n",
       "</style>\n",
       "<table border=\"1\" class=\"dataframe\">\n",
       "  <thead>\n",
       "    <tr style=\"text-align: right;\">\n",
       "      <th></th>\n",
       "      <th>Trip ID</th>\n",
       "    </tr>\n",
       "  </thead>\n",
       "  <tbody>\n",
       "    <tr>\n",
       "      <th>count</th>\n",
       "      <td>5.360200e+05</td>\n",
       "    </tr>\n",
       "    <tr>\n",
       "      <th>mean</th>\n",
       "      <td>9.910221e+05</td>\n",
       "    </tr>\n",
       "    <tr>\n",
       "      <th>std</th>\n",
       "      <td>3.456364e+05</td>\n",
       "    </tr>\n",
       "    <tr>\n",
       "      <th>min</th>\n",
       "      <td>3.919960e+05</td>\n",
       "    </tr>\n",
       "    <tr>\n",
       "      <th>25%</th>\n",
       "      <td>6.935610e+05</td>\n",
       "    </tr>\n",
       "    <tr>\n",
       "      <th>50%</th>\n",
       "      <td>9.910085e+05</td>\n",
       "    </tr>\n",
       "    <tr>\n",
       "      <th>75%</th>\n",
       "      <td>1.281570e+06</td>\n",
       "    </tr>\n",
       "    <tr>\n",
       "      <th>max</th>\n",
       "      <td>1.637709e+06</td>\n",
       "    </tr>\n",
       "  </tbody>\n",
       "</table>\n",
       "</div>"
      ],
      "text/plain": [
       "            Trip ID\n",
       "count  5.360200e+05\n",
       "mean   9.910221e+05\n",
       "std    3.456364e+05\n",
       "min    3.919960e+05\n",
       "25%    6.935610e+05\n",
       "50%    9.910085e+05\n",
       "75%    1.281570e+06\n",
       "max    1.637709e+06"
      ]
     },
     "execution_count": 21,
     "metadata": {},
     "output_type": "execute_result"
    }
   ],
   "source": [
    "#nbdf.describe()"
   ]
  },
  {
   "cell_type": "markdown",
   "id": "b3137e2d",
   "metadata": {},
   "source": [
    "#### Pre-Processing"
   ]
  },
  {
   "cell_type": "markdown",
   "id": "6480101d",
   "metadata": {},
   "source": [
    "##### Handling datatypes\n",
    "let convert the Trip Start Time and Trip End Time to date time datatype and the Trip Origin and trip Destination to numeric values."
   ]
  },
  {
   "cell_type": "code",
   "execution_count": 27,
   "id": "4ffb3433",
   "metadata": {},
   "outputs": [],
   "source": [
    "nbdf = preprocess.convert_to_datetime(nbdf, 'Trip Start Time')\n",
    "nbdf = preprocess.convert_to_datetime(nbdf, 'Trip End Time')"
   ]
  },
  {
   "cell_type": "code",
   "execution_count": 33,
   "id": "0d6bcbec",
   "metadata": {},
   "outputs": [
    {
     "name": "stdout",
     "output_type": "stream",
     "text": [
      "<class 'pandas.core.frame.DataFrame'>\n",
      "RangeIndex: 536020 entries, 0 to 536019\n",
      "Data columns (total 5 columns):\n",
      " #   Column            Non-Null Count   Dtype         \n",
      "---  ------            --------------   -----         \n",
      " 0   Trip ID           536020 non-null  int64         \n",
      " 1   Trip Origin       536020 non-null  object        \n",
      " 2   Trip Destination  536020 non-null  object        \n",
      " 3   Trip Start Time   534369 non-null  datetime64[ns]\n",
      " 4   Trip End Time     536019 non-null  datetime64[ns]\n",
      "dtypes: datetime64[ns](2), int64(1), object(2)\n",
      "memory usage: 20.4+ MB\n"
     ]
    }
   ],
   "source": [
    "nbdf.info()"
   ]
  },
  {
   "cell_type": "code",
   "execution_count": 40,
   "id": "bfe19030",
   "metadata": {},
   "outputs": [
    {
     "ename": "AttributeError",
     "evalue": "'Preprocess' object has no attribute 'convert_to_float'",
     "output_type": "error",
     "traceback": [
      "\u001b[1;31m---------------------------------------------------------------------------\u001b[0m",
      "\u001b[1;31mAttributeError\u001b[0m                            Traceback (most recent call last)",
      "Input \u001b[1;32mIn [40]\u001b[0m, in \u001b[0;36m<cell line: 1>\u001b[1;34m()\u001b[0m\n\u001b[1;32m----> 1\u001b[0m nbdf \u001b[38;5;241m=\u001b[39m \u001b[43mpreprocess\u001b[49m\u001b[38;5;241;43m.\u001b[39;49m\u001b[43mconvert_to_float\u001b[49m(nbdf, \u001b[38;5;124m'\u001b[39m\u001b[38;5;124mTrip Origin\u001b[39m\u001b[38;5;124m'\u001b[39m)\n\u001b[0;32m      2\u001b[0m nbdf \u001b[38;5;241m=\u001b[39m preprocess\u001b[38;5;241m.\u001b[39mconvert_to_float(nbdf, \u001b[38;5;124m'\u001b[39m\u001b[38;5;124mtrip Destination\u001b[39m\u001b[38;5;124m'\u001b[39m)\n",
      "\u001b[1;31mAttributeError\u001b[0m: 'Preprocess' object has no attribute 'convert_to_float'"
     ]
    }
   ],
   "source": [
    "nbdf = preprocess.convert_to_float(nbdf, 'Trip Origin')\n",
    "nbdf = preprocess.convert_to_float(nbdf, 'trip Destination')"
   ]
  },
  {
   "cell_type": "markdown",
   "id": "edede335",
   "metadata": {},
   "source": [
    "##### Null Percentage"
   ]
  },
  {
   "cell_type": "code",
   "execution_count": 42,
   "id": "3fc092a7",
   "metadata": {},
   "outputs": [
    {
     "name": "stdout",
     "output_type": "stream",
     "text": [
      " Null Percentage :                   Total    %\n",
      "Trip Start Time    1651  0.3\n",
      "Trip End Time         1  0.0\n",
      "Trip ID               0  0.0\n",
      "Trip Origin           0  0.0\n",
      "Trip Destination      0  0.0 %\n"
     ]
    }
   ],
   "source": [
    "#nullpercentage\n",
    "print(f\" Null Percentage : {preprocess.get_missing_data_percentage(nbdf)} %\")"
   ]
  },
  {
   "cell_type": "markdown",
   "id": "a619ba02",
   "metadata": {},
   "source": [
    "##### Handling Missing values\n",
    "from the above null percentage we have got the columns of Trip Start Time and Trip End Time. so let us handle it."
   ]
  },
  {
   "cell_type": "code",
   "execution_count": null,
   "id": "4db331d7",
   "metadata": {},
   "outputs": [],
   "source": []
  }
 ],
 "metadata": {
  "kernelspec": {
   "display_name": "Python 3 (ipykernel)",
   "language": "python",
   "name": "python3"
  },
  "language_info": {
   "codemirror_mode": {
    "name": "ipython",
    "version": 3
   },
   "file_extension": ".py",
   "mimetype": "text/x-python",
   "name": "python",
   "nbconvert_exporter": "python",
   "pygments_lexer": "ipython3",
   "version": "3.9.12"
  }
 },
 "nbformat": 4,
 "nbformat_minor": 5
}
