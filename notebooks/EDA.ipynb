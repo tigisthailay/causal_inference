{
 "cells": [
  {
   "cell_type": "markdown",
   "id": "6eff41a6",
   "metadata": {},
   "source": [
    "import important libraries"
   ]
  },
  {
   "cell_type": "code",
   "execution_count": 47,
   "id": "c0315b68",
   "metadata": {},
   "outputs": [],
   "source": [
    "import dvc.api\n",
    "import pandas as pd\n",
    "import numpy as np\n",
    "import matplotlib.pyplot as plt\n",
    "import seaborn as sns\n",
    "import geopy\n",
    "import plotly.graph_objects as go\n",
    "import sys, os"
   ]
  },
  {
   "cell_type": "markdown",
   "id": "96cf0096",
   "metadata": {},
   "source": [
    "Import required Modules"
   ]
  },
  {
   "cell_type": "code",
   "execution_count": 30,
   "id": "534e1a86",
   "metadata": {},
   "outputs": [],
   "source": [
    "sys.path.append(os.path.abspath(os.path.join('../scripts')))\n",
    "from file import Myfile\n",
    "from preprocessing import Preprocess\n",
    "#from loader import LoadData"
   ]
  },
  {
   "cell_type": "markdown",
   "id": "441704be",
   "metadata": {},
   "source": [
    "##### Initialize class"
   ]
  },
  {
   "cell_type": "code",
   "execution_count": 31,
   "id": "7df8e881",
   "metadata": {},
   "outputs": [],
   "source": [
    "file = Myfile()\n",
    "preprocess = Preprocess()"
   ]
  },
  {
   "cell_type": "markdown",
   "id": "b34dcb5c",
   "metadata": {},
   "source": [
    "Loading the Data"
   ]
  },
  {
   "cell_type": "code",
   "execution_count": 32,
   "id": "923eb6c5",
   "metadata": {},
   "outputs": [],
   "source": [
    "date = ['Trip Start Time', 'Trip End Time'] # the date column name\n",
    "missing_values = [\"n/a\", \"na\", \"undefined\", '?', 'NA', 'undefined']"
   ]
  },
  {
   "cell_type": "code",
   "execution_count": 88,
   "id": "9a93d205",
   "metadata": {},
   "outputs": [
    {
     "name": "stdout",
     "output_type": "stream",
     "text": [
      "--> file read as csv\n"
     ]
    }
   ],
   "source": [
    "nbdf = file.read_csv('../data/nb.csv')\n",
    "#nbdf = pd.read_csv('../data/nb.csv', na_values=missing_values)"
   ]
  },
  {
   "cell_type": "code",
   "execution_count": 34,
   "id": "c25e3ff0",
   "metadata": {},
   "outputs": [
    {
     "data": {
      "text/html": [
       "<div>\n",
       "<style scoped>\n",
       "    .dataframe tbody tr th:only-of-type {\n",
       "        vertical-align: middle;\n",
       "    }\n",
       "\n",
       "    .dataframe tbody tr th {\n",
       "        vertical-align: top;\n",
       "    }\n",
       "\n",
       "    .dataframe thead th {\n",
       "        text-align: right;\n",
       "    }\n",
       "</style>\n",
       "<table border=\"1\" class=\"dataframe\">\n",
       "  <thead>\n",
       "    <tr style=\"text-align: right;\">\n",
       "      <th></th>\n",
       "      <th>Trip ID</th>\n",
       "      <th>Trip Origin</th>\n",
       "      <th>Trip Destination</th>\n",
       "      <th>Trip Start Time</th>\n",
       "      <th>Trip End Time</th>\n",
       "    </tr>\n",
       "  </thead>\n",
       "  <tbody>\n",
       "    <tr>\n",
       "      <th>0</th>\n",
       "      <td>391996</td>\n",
       "      <td>6.508813001668548,3.37740316890347</td>\n",
       "      <td>6.650969799999999,3.3450307</td>\n",
       "      <td>2021-07-01 07:28:04</td>\n",
       "      <td>2021-07-01 07:29:37</td>\n",
       "    </tr>\n",
       "    <tr>\n",
       "      <th>1</th>\n",
       "      <td>391997</td>\n",
       "      <td>6.4316714,3.4555375</td>\n",
       "      <td>6.4280814653326,3.4721885847586</td>\n",
       "      <td>2021-07-01 06:38:04</td>\n",
       "      <td>2021-07-01 07:07:28</td>\n",
       "    </tr>\n",
       "    <tr>\n",
       "      <th>2</th>\n",
       "      <td>391998</td>\n",
       "      <td>6.631679399999999,3.3388976</td>\n",
       "      <td>6.508324099999999,3.3590397</td>\n",
       "      <td>2021-07-01 06:21:02</td>\n",
       "      <td>2021-07-01 07:02:23</td>\n",
       "    </tr>\n",
       "    <tr>\n",
       "      <th>3</th>\n",
       "      <td>391999</td>\n",
       "      <td>6.572757200000001,3.3677082</td>\n",
       "      <td>6.584881099999999,3.3614073</td>\n",
       "      <td>2021-07-01 07:16:07</td>\n",
       "      <td>2021-07-01 07:29:42</td>\n",
       "    </tr>\n",
       "    <tr>\n",
       "      <th>4</th>\n",
       "      <td>392001</td>\n",
       "      <td>6.6010417,3.2766339</td>\n",
       "      <td>6.4501069,3.3916154</td>\n",
       "      <td>2021-07-01 09:30:59</td>\n",
       "      <td>2021-07-01 09:34:36</td>\n",
       "    </tr>\n",
       "  </tbody>\n",
       "</table>\n",
       "</div>"
      ],
      "text/plain": [
       "   Trip ID                         Trip Origin  \\\n",
       "0   391996  6.508813001668548,3.37740316890347   \n",
       "1   391997                 6.4316714,3.4555375   \n",
       "2   391998         6.631679399999999,3.3388976   \n",
       "3   391999         6.572757200000001,3.3677082   \n",
       "4   392001                 6.6010417,3.2766339   \n",
       "\n",
       "                  Trip Destination      Trip Start Time        Trip End Time  \n",
       "0      6.650969799999999,3.3450307  2021-07-01 07:28:04  2021-07-01 07:29:37  \n",
       "1  6.4280814653326,3.4721885847586  2021-07-01 06:38:04  2021-07-01 07:07:28  \n",
       "2      6.508324099999999,3.3590397  2021-07-01 06:21:02  2021-07-01 07:02:23  \n",
       "3      6.584881099999999,3.3614073  2021-07-01 07:16:07  2021-07-01 07:29:42  \n",
       "4              6.4501069,3.3916154  2021-07-01 09:30:59  2021-07-01 09:34:36  "
      ]
     },
     "execution_count": 34,
     "metadata": {},
     "output_type": "execute_result"
    }
   ],
   "source": [
    "nbdf.head()"
   ]
  },
  {
   "cell_type": "markdown",
   "id": "1b8aedc8",
   "metadata": {},
   "source": [
    "Data information"
   ]
  },
  {
   "cell_type": "code",
   "execution_count": 7,
   "id": "41dbf394",
   "metadata": {},
   "outputs": [
    {
     "data": {
      "text/plain": [
       "(536020, 5)"
      ]
     },
     "execution_count": 7,
     "metadata": {},
     "output_type": "execute_result"
    }
   ],
   "source": [
    "nbdf.shape"
   ]
  },
  {
   "cell_type": "code",
   "execution_count": 8,
   "id": "3ef5e52a",
   "metadata": {},
   "outputs": [
    {
     "name": "stdout",
     "output_type": "stream",
     "text": [
      "<class 'pandas.core.frame.DataFrame'>\n",
      "RangeIndex: 536020 entries, 0 to 536019\n",
      "Data columns (total 5 columns):\n",
      " #   Column            Non-Null Count   Dtype \n",
      "---  ------            --------------   ----- \n",
      " 0   Trip ID           536020 non-null  int64 \n",
      " 1   Trip Origin       536020 non-null  object\n",
      " 2   Trip Destination  536020 non-null  object\n",
      " 3   Trip Start Time   534369 non-null  object\n",
      " 4   Trip End Time     536019 non-null  object\n",
      "dtypes: int64(1), object(4)\n",
      "memory usage: 20.4+ MB\n"
     ]
    }
   ],
   "source": [
    "nbdf.info()"
   ]
  },
  {
   "cell_type": "code",
   "execution_count": 9,
   "id": "569ab465",
   "metadata": {},
   "outputs": [
    {
     "data": {
      "text/plain": [
       "Index(['Trip ID', 'Trip Origin', 'Trip Destination', 'Trip Start Time',\n",
       "       'Trip End Time'],\n",
       "      dtype='object')"
      ]
     },
     "execution_count": 9,
     "metadata": {},
     "output_type": "execute_result"
    }
   ],
   "source": [
    "nbdf.columns"
   ]
  },
  {
   "cell_type": "markdown",
   "id": "2b0075f0",
   "metadata": {},
   "source": [
    "#### Pre-Processing"
   ]
  },
  {
   "cell_type": "markdown",
   "id": "59d6f0bb",
   "metadata": {},
   "source": [
    "##### Handling datatypes\n",
    "let convert the Trip Start Time and Trip End Time to date time datatype and the Trip Origin and trip Destination to numeric values."
   ]
  },
  {
   "cell_type": "code",
   "execution_count": 11,
   "id": "23d9f3b8",
   "metadata": {},
   "outputs": [],
   "source": [
    "nbdf = preprocess.convert_to_datetime(nbdf, 'Trip Start Time')\n",
    "nbdf = preprocess.convert_to_datetime(nbdf, 'Trip End Time')"
   ]
  },
  {
   "cell_type": "code",
   "execution_count": 12,
   "id": "0c4fab1b",
   "metadata": {},
   "outputs": [],
   "source": [
    "#converting object type to float\n",
    "#link: https://stackoverflow.com/questions/43987237/convert-multiple-datatype-to-float \n",
    "nbdf[['Trip Origin','Trip Destination']] = nbdf[['Trip Origin','Trip Destination']].apply(pd.to_numeric, errors='coerce') "
   ]
  },
  {
   "cell_type": "code",
   "execution_count": 13,
   "id": "99b726d8",
   "metadata": {},
   "outputs": [
    {
     "name": "stdout",
     "output_type": "stream",
     "text": [
      "<class 'pandas.core.frame.DataFrame'>\n",
      "RangeIndex: 536020 entries, 0 to 536019\n",
      "Data columns (total 5 columns):\n",
      " #   Column            Non-Null Count   Dtype         \n",
      "---  ------            --------------   -----         \n",
      " 0   Trip ID           536020 non-null  int64         \n",
      " 1   Trip Origin       0 non-null       float64       \n",
      " 2   Trip Destination  0 non-null       float64       \n",
      " 3   Trip Start Time   534369 non-null  datetime64[ns]\n",
      " 4   Trip End Time     536019 non-null  datetime64[ns]\n",
      "dtypes: datetime64[ns](2), float64(2), int64(1)\n",
      "memory usage: 20.4 MB\n"
     ]
    }
   ],
   "source": [
    "nbdf.info()"
   ]
  },
  {
   "cell_type": "markdown",
   "id": "1871b51b",
   "metadata": {},
   "source": [
    "##### Null Percentage"
   ]
  },
  {
   "cell_type": "code",
   "execution_count": 89,
   "id": "78a168e7",
   "metadata": {},
   "outputs": [
    {
     "name": "stdout",
     "output_type": "stream",
     "text": [
      " Null Percentage :                   Total    %\n",
      "Trip Start Time    1651  0.3\n",
      "Trip End Time         1  0.0\n",
      "Trip ID               0  0.0\n",
      "Trip Origin           0  0.0\n",
      "Trip Destination      0  0.0 %\n"
     ]
    }
   ],
   "source": [
    "#nullpercentage\n",
    "print(f\" Null Percentage : {preprocess.get_missing_data_percentage(nbdf)} %\")"
   ]
  },
  {
   "cell_type": "markdown",
   "id": "8b37ff6d",
   "metadata": {},
   "source": [
    "##### Handling Missing values\n",
    "\n",
    "from the above null percentage we have got the columns of Trip Start and end Time and . so let us handle it."
   ]
  },
  {
   "cell_type": "code",
   "execution_count": 38,
   "id": "93d1251e",
   "metadata": {},
   "outputs": [],
   "source": [
    "# droping the null records \n",
    "nbdf.dropna(inplace = True)"
   ]
  },
  {
   "cell_type": "code",
   "execution_count": 39,
   "id": "b84c5631",
   "metadata": {},
   "outputs": [
    {
     "data": {
      "text/plain": [
       "Trip ID             0\n",
       "Trip Origin         0\n",
       "Trip Destination    0\n",
       "Trip Start Time     0\n",
       "Trip End Time       0\n",
       "dtype: int64"
      ]
     },
     "execution_count": 39,
     "metadata": {},
     "output_type": "execute_result"
    }
   ],
   "source": [
    "nbdf.isnull().sum()"
   ]
  },
  {
   "cell_type": "code",
   "execution_count": 60,
   "id": "9cd524b8",
   "metadata": {},
   "outputs": [
    {
     "data": {
      "text/plain": [
       "(391996, 1637709)"
      ]
     },
     "execution_count": 60,
     "metadata": {},
     "output_type": "execute_result"
    }
   ],
   "source": [
    "nbdf['Trip ID'].min(), nbdf['Trip ID'].max()"
   ]
  },
  {
   "cell_type": "code",
   "execution_count": 61,
   "id": "1163e26b",
   "metadata": {},
   "outputs": [
    {
     "data": {
      "text/plain": [
       "<bound method Series.unique of 391996     1\n",
       "1180070    1\n",
       "1180061    1\n",
       "1180060    1\n",
       "1180059    1\n",
       "          ..\n",
       "789757     1\n",
       "789755     1\n",
       "789751     1\n",
       "789750     1\n",
       "1637709    1\n",
       "Name: Trip ID, Length: 536020, dtype: int64>"
      ]
     },
     "execution_count": 61,
     "metadata": {},
     "output_type": "execute_result"
    }
   ],
   "source": [
    "nbdf['Trip ID'].value_counts().unique"
   ]
  },
  {
   "cell_type": "markdown",
   "id": "dc0ac32d",
   "metadata": {},
   "source": [
    "#### Dealing with the second datasets"
   ]
  },
  {
   "cell_type": "code",
   "execution_count": 18,
   "id": "c02e49c7",
   "metadata": {},
   "outputs": [
    {
     "name": "stdout",
     "output_type": "stream",
     "text": [
      "--> file read as csv\n"
     ]
    }
   ],
   "source": [
    "driv_loc_df = file.read_csv('../data/driver_locations.csv')"
   ]
  },
  {
   "cell_type": "code",
   "execution_count": 19,
   "id": "fa5f9b9f",
   "metadata": {},
   "outputs": [
    {
     "data": {
      "text/html": [
       "<div>\n",
       "<style scoped>\n",
       "    .dataframe tbody tr th:only-of-type {\n",
       "        vertical-align: middle;\n",
       "    }\n",
       "\n",
       "    .dataframe tbody tr th {\n",
       "        vertical-align: top;\n",
       "    }\n",
       "\n",
       "    .dataframe thead th {\n",
       "        text-align: right;\n",
       "    }\n",
       "</style>\n",
       "<table border=\"1\" class=\"dataframe\">\n",
       "  <thead>\n",
       "    <tr style=\"text-align: right;\">\n",
       "      <th></th>\n",
       "      <th>id</th>\n",
       "      <th>order_id</th>\n",
       "      <th>driver_id</th>\n",
       "      <th>driver_action</th>\n",
       "      <th>lat</th>\n",
       "      <th>lng</th>\n",
       "      <th>created_at</th>\n",
       "      <th>updated_at</th>\n",
       "    </tr>\n",
       "  </thead>\n",
       "  <tbody>\n",
       "    <tr>\n",
       "      <th>0</th>\n",
       "      <td>1</td>\n",
       "      <td>392001</td>\n",
       "      <td>243828</td>\n",
       "      <td>accepted</td>\n",
       "      <td>6.602207</td>\n",
       "      <td>3.270465</td>\n",
       "      <td>NaN</td>\n",
       "      <td>NaN</td>\n",
       "    </tr>\n",
       "    <tr>\n",
       "      <th>1</th>\n",
       "      <td>2</td>\n",
       "      <td>392001</td>\n",
       "      <td>243588</td>\n",
       "      <td>rejected</td>\n",
       "      <td>6.592097</td>\n",
       "      <td>3.287445</td>\n",
       "      <td>NaN</td>\n",
       "      <td>NaN</td>\n",
       "    </tr>\n",
       "    <tr>\n",
       "      <th>2</th>\n",
       "      <td>3</td>\n",
       "      <td>392001</td>\n",
       "      <td>243830</td>\n",
       "      <td>rejected</td>\n",
       "      <td>6.596133</td>\n",
       "      <td>3.281784</td>\n",
       "      <td>NaN</td>\n",
       "      <td>NaN</td>\n",
       "    </tr>\n",
       "    <tr>\n",
       "      <th>3</th>\n",
       "      <td>4</td>\n",
       "      <td>392001</td>\n",
       "      <td>243539</td>\n",
       "      <td>rejected</td>\n",
       "      <td>6.596142</td>\n",
       "      <td>3.280526</td>\n",
       "      <td>NaN</td>\n",
       "      <td>NaN</td>\n",
       "    </tr>\n",
       "    <tr>\n",
       "      <th>4</th>\n",
       "      <td>5</td>\n",
       "      <td>392001</td>\n",
       "      <td>171653</td>\n",
       "      <td>rejected</td>\n",
       "      <td>6.609232</td>\n",
       "      <td>3.288800</td>\n",
       "      <td>NaN</td>\n",
       "      <td>NaN</td>\n",
       "    </tr>\n",
       "  </tbody>\n",
       "</table>\n",
       "</div>"
      ],
      "text/plain": [
       "   id  order_id  driver_id driver_action       lat       lng  created_at  \\\n",
       "0   1    392001     243828      accepted  6.602207  3.270465         NaN   \n",
       "1   2    392001     243588      rejected  6.592097  3.287445         NaN   \n",
       "2   3    392001     243830      rejected  6.596133  3.281784         NaN   \n",
       "3   4    392001     243539      rejected  6.596142  3.280526         NaN   \n",
       "4   5    392001     171653      rejected  6.609232  3.288800         NaN   \n",
       "\n",
       "   updated_at  \n",
       "0         NaN  \n",
       "1         NaN  \n",
       "2         NaN  \n",
       "3         NaN  \n",
       "4         NaN  "
      ]
     },
     "execution_count": 19,
     "metadata": {},
     "output_type": "execute_result"
    }
   ],
   "source": [
    "driv_loc_df.head()"
   ]
  },
  {
   "cell_type": "code",
   "execution_count": 20,
   "id": "e75dfede",
   "metadata": {},
   "outputs": [
    {
     "data": {
      "text/plain": [
       "(1557740, 8)"
      ]
     },
     "execution_count": 20,
     "metadata": {},
     "output_type": "execute_result"
    }
   ],
   "source": [
    "driv_loc_df.shape"
   ]
  },
  {
   "cell_type": "code",
   "execution_count": 21,
   "id": "54b93e83",
   "metadata": {},
   "outputs": [
    {
     "data": {
      "text/plain": [
       "Index(['id', 'order_id', 'driver_id', 'driver_action', 'lat', 'lng',\n",
       "       'created_at', 'updated_at'],\n",
       "      dtype='object')"
      ]
     },
     "execution_count": 21,
     "metadata": {},
     "output_type": "execute_result"
    }
   ],
   "source": [
    "driv_loc_df.columns"
   ]
  },
  {
   "cell_type": "code",
   "execution_count": 22,
   "id": "8c5c9e6f",
   "metadata": {},
   "outputs": [
    {
     "name": "stdout",
     "output_type": "stream",
     "text": [
      "<class 'pandas.core.frame.DataFrame'>\n",
      "RangeIndex: 1557740 entries, 0 to 1557739\n",
      "Data columns (total 8 columns):\n",
      " #   Column         Non-Null Count    Dtype  \n",
      "---  ------         --------------    -----  \n",
      " 0   id             1557740 non-null  int64  \n",
      " 1   order_id       1557740 non-null  int64  \n",
      " 2   driver_id      1557740 non-null  int64  \n",
      " 3   driver_action  1557740 non-null  object \n",
      " 4   lat            1557740 non-null  float64\n",
      " 5   lng            1557740 non-null  float64\n",
      " 6   created_at     0 non-null        float64\n",
      " 7   updated_at     0 non-null        float64\n",
      "dtypes: float64(4), int64(3), object(1)\n",
      "memory usage: 95.1+ MB\n"
     ]
    }
   ],
   "source": [
    "driv_loc_df.info()"
   ]
  },
  {
   "cell_type": "markdown",
   "id": "eff59249",
   "metadata": {},
   "source": [
    "#### Pre-Processing"
   ]
  },
  {
   "cell_type": "code",
   "execution_count": 23,
   "id": "ed234a56",
   "metadata": {
    "scrolled": true
   },
   "outputs": [
    {
     "name": "stdout",
     "output_type": "stream",
     "text": [
      " Null Percentage :                  Total      %\n",
      "created_at     1557740  100.0\n",
      "updated_at     1557740  100.0\n",
      "id                   0    0.0\n",
      "order_id             0    0.0\n",
      "driver_id            0    0.0\n",
      "driver_action        0    0.0\n",
      "lat                  0    0.0\n",
      "lng                  0    0.0 %\n"
     ]
    }
   ],
   "source": [
    "#nullpercentage\n",
    "print(f\" Null Percentage : {preprocess.get_missing_data_percentage(driv_loc_df)} %\")"
   ]
  },
  {
   "cell_type": "code",
   "execution_count": 24,
   "id": "3d905e1b",
   "metadata": {},
   "outputs": [],
   "source": [
    "# dropping nul values \n",
    "driv_loc_df.drop(['created_at', 'updated_at'], inplace=True, axis=1)"
   ]
  },
  {
   "cell_type": "code",
   "execution_count": 25,
   "id": "9548b831",
   "metadata": {},
   "outputs": [
    {
     "name": "stdout",
     "output_type": "stream",
     "text": [
      " Null Percentage :                Total    %\n",
      "id                 0  0.0\n",
      "order_id           0  0.0\n",
      "driver_id          0  0.0\n",
      "driver_action      0  0.0\n",
      "lat                0  0.0\n",
      "lng                0  0.0 %\n"
     ]
    }
   ],
   "source": [
    "#checking nullpercentage\n",
    "print(f\" Null Percentage : {preprocess.get_missing_data_percentage(driv_loc_df)} %\")"
   ]
  },
  {
   "cell_type": "code",
   "execution_count": 26,
   "id": "66338f6f",
   "metadata": {},
   "outputs": [
    {
     "data": {
      "text/html": [
       "<div>\n",
       "<style scoped>\n",
       "    .dataframe tbody tr th:only-of-type {\n",
       "        vertical-align: middle;\n",
       "    }\n",
       "\n",
       "    .dataframe tbody tr th {\n",
       "        vertical-align: top;\n",
       "    }\n",
       "\n",
       "    .dataframe thead th {\n",
       "        text-align: right;\n",
       "    }\n",
       "</style>\n",
       "<table border=\"1\" class=\"dataframe\">\n",
       "  <thead>\n",
       "    <tr style=\"text-align: right;\">\n",
       "      <th></th>\n",
       "      <th>id</th>\n",
       "      <th>order_id</th>\n",
       "      <th>driver_id</th>\n",
       "      <th>driver_action</th>\n",
       "      <th>lat</th>\n",
       "      <th>lng</th>\n",
       "    </tr>\n",
       "  </thead>\n",
       "  <tbody>\n",
       "    <tr>\n",
       "      <th>0</th>\n",
       "      <td>1</td>\n",
       "      <td>392001</td>\n",
       "      <td>243828</td>\n",
       "      <td>accepted</td>\n",
       "      <td>6.602207</td>\n",
       "      <td>3.270465</td>\n",
       "    </tr>\n",
       "    <tr>\n",
       "      <th>1</th>\n",
       "      <td>2</td>\n",
       "      <td>392001</td>\n",
       "      <td>243588</td>\n",
       "      <td>rejected</td>\n",
       "      <td>6.592097</td>\n",
       "      <td>3.287445</td>\n",
       "    </tr>\n",
       "  </tbody>\n",
       "</table>\n",
       "</div>"
      ],
      "text/plain": [
       "   id  order_id  driver_id driver_action       lat       lng\n",
       "0   1    392001     243828      accepted  6.602207  3.270465\n",
       "1   2    392001     243588      rejected  6.592097  3.287445"
      ]
     },
     "execution_count": 26,
     "metadata": {},
     "output_type": "execute_result"
    }
   ],
   "source": [
    "driv_loc_df.head(2)"
   ]
  },
  {
   "cell_type": "code",
   "execution_count": 73,
   "id": "56999141",
   "metadata": {},
   "outputs": [
    {
     "data": {
      "text/plain": [
       "rejected    1531837\n",
       "accepted      25903\n",
       "Name: driver_action, dtype: int64"
      ]
     },
     "execution_count": 73,
     "metadata": {},
     "output_type": "execute_result"
    }
   ],
   "source": [
    "driv_loc_df.driver_action.value_counts()"
   ]
  },
  {
   "cell_type": "code",
   "execution_count": 74,
   "id": "63ba4aed",
   "metadata": {},
   "outputs": [
    {
     "data": {
      "text/plain": [
       "(392001, 517948)"
      ]
     },
     "execution_count": 74,
     "metadata": {},
     "output_type": "execute_result"
    }
   ],
   "source": [
    "driv_loc_df.order_id.min(), driv_loc_df.order_id.max()"
   ]
  },
  {
   "cell_type": "code",
   "execution_count": 75,
   "id": "f44d4be6",
   "metadata": {},
   "outputs": [
    {
     "data": {
      "text/plain": [
       "(121981, 247877)"
      ]
     },
     "execution_count": 75,
     "metadata": {},
     "output_type": "execute_result"
    }
   ],
   "source": [
    "driv_loc_df.driver_id.min(), driv_loc_df.driver_id.max()"
   ]
  },
  {
   "cell_type": "code",
   "execution_count": 76,
   "id": "0e41df7e",
   "metadata": {},
   "outputs": [
    {
     "data": {
      "text/plain": [
       "Int64Index([245538, 243020, 242971, 243676, 243932, 171165, 243581, 244121,\n",
       "            244031, 243826,\n",
       "            ...\n",
       "            247709, 246615, 245756, 247508, 247794, 245840, 247182, 245907,\n",
       "            246082, 246602],\n",
       "           dtype='int64', length=1213)"
      ]
     },
     "execution_count": 76,
     "metadata": {},
     "output_type": "execute_result"
    }
   ],
   "source": [
    "driv_loc_df.driver_id.value_counts().keys().unique()"
   ]
  },
  {
   "cell_type": "markdown",
   "id": "6a6fc9ac",
   "metadata": {},
   "source": [
    "##### Feature engineertring\n",
    "\n",
    "Distance and speed features are going to be engineered.\n",
    "\n",
    "\n",
    "###### separate  latitide and longitide from the from each coordinate point"
   ]
  },
  {
   "cell_type": "code",
   "execution_count": 42,
   "id": "fbba7ba8",
   "metadata": {},
   "outputs": [],
   "source": [
    "#trip origion \n",
    "nbdf['Trip_Origin_lat'] = nbdf['Trip Origin'].apply(lambda x: str(x).split(',')[0])\n",
    "nbdf['Trip_Origin_lng'] = nbdf['Trip Origin'].apply(lambda x: str(x).split(',')[1])"
   ]
  },
  {
   "cell_type": "code",
   "execution_count": 43,
   "id": "be5c4e7d",
   "metadata": {},
   "outputs": [],
   "source": [
    "# trip destination\n",
    "nbdf['Trip_Destn_lat'] = nbdf['Trip Destination'].apply(lambda x: str(x).split(',')[0])\n",
    "nbdf['Trip_Destn_lng'] = nbdf['Trip Destination'].apply(lambda x: str(x).split(',')[1])"
   ]
  },
  {
   "cell_type": "markdown",
   "id": "8cf152ff",
   "metadata": {},
   "source": [
    "###### engineer the distance "
   ]
  },
  {
   "cell_type": "code",
   "execution_count": 50,
   "id": "83f7fb9c",
   "metadata": {},
   "outputs": [],
   "source": [
    "# calculating distance in km\n",
    "import geopy.distance\n",
    "def distance(row):\n",
    "    return geopy.distance.distance((row.Trip_Origin_lat, row.Trip_Origin_lng),(row.Trip_Destn_lat, row.Trip_Destn_lng)).km\n",
    "nbdf['Distance']= nbdf.apply(lambda r: distance(r), axis=1)"
   ]
  },
  {
   "cell_type": "markdown",
   "id": "419a0e59",
   "metadata": {},
   "source": [
    "###### engineer the speed"
   ]
  },
  {
   "cell_type": "code",
   "execution_count": 58,
   "id": "07501474",
   "metadata": {},
   "outputs": [],
   "source": [
    "# adding speed\n",
    "\n",
    "nbdf[['Trip End Time','Trip Start Time']] = nbdf[['Trip End Time','Trip Start Time']].apply(pd.to_datetime)\n",
    "nbdf['Speed']= (nbdf['Trip End Time']-nbdf['Trip Start Time'])/ np.timedelta64(1, 'D')"
   ]
  },
  {
   "cell_type": "code",
   "execution_count": 59,
   "id": "0f22193d",
   "metadata": {},
   "outputs": [
    {
     "data": {
      "text/html": [
       "<div>\n",
       "<style scoped>\n",
       "    .dataframe tbody tr th:only-of-type {\n",
       "        vertical-align: middle;\n",
       "    }\n",
       "\n",
       "    .dataframe tbody tr th {\n",
       "        vertical-align: top;\n",
       "    }\n",
       "\n",
       "    .dataframe thead th {\n",
       "        text-align: right;\n",
       "    }\n",
       "</style>\n",
       "<table border=\"1\" class=\"dataframe\">\n",
       "  <thead>\n",
       "    <tr style=\"text-align: right;\">\n",
       "      <th></th>\n",
       "      <th>Trip ID</th>\n",
       "      <th>Trip Origin</th>\n",
       "      <th>Trip Destination</th>\n",
       "      <th>Trip Start Time</th>\n",
       "      <th>Trip End Time</th>\n",
       "      <th>Trip_Origin_lat</th>\n",
       "      <th>Trip_Origin_lng</th>\n",
       "      <th>Trip_Destn_lat</th>\n",
       "      <th>Trip_Destn_lng</th>\n",
       "      <th>Distance</th>\n",
       "      <th>Speed</th>\n",
       "    </tr>\n",
       "  </thead>\n",
       "  <tbody>\n",
       "    <tr>\n",
       "      <th>0</th>\n",
       "      <td>391996</td>\n",
       "      <td>6.508813001668548,3.37740316890347</td>\n",
       "      <td>6.650969799999999,3.3450307</td>\n",
       "      <td>2021-07-01 07:28:04</td>\n",
       "      <td>2021-07-01 07:29:37</td>\n",
       "      <td>6.508813001668548</td>\n",
       "      <td>3.37740316890347</td>\n",
       "      <td>6.650969799999999</td>\n",
       "      <td>3.3450307</td>\n",
       "      <td>16.123451</td>\n",
       "      <td>0.001076</td>\n",
       "    </tr>\n",
       "    <tr>\n",
       "      <th>1</th>\n",
       "      <td>391997</td>\n",
       "      <td>6.4316714,3.4555375</td>\n",
       "      <td>6.4280814653326,3.4721885847586</td>\n",
       "      <td>2021-07-01 06:38:04</td>\n",
       "      <td>2021-07-01 07:07:28</td>\n",
       "      <td>6.4316714</td>\n",
       "      <td>3.4555375</td>\n",
       "      <td>6.4280814653326</td>\n",
       "      <td>3.4721885847586</td>\n",
       "      <td>1.884305</td>\n",
       "      <td>0.020417</td>\n",
       "    </tr>\n",
       "    <tr>\n",
       "      <th>2</th>\n",
       "      <td>391998</td>\n",
       "      <td>6.631679399999999,3.3388976</td>\n",
       "      <td>6.508324099999999,3.3590397</td>\n",
       "      <td>2021-07-01 06:21:02</td>\n",
       "      <td>2021-07-01 07:02:23</td>\n",
       "      <td>6.631679399999999</td>\n",
       "      <td>3.3388976</td>\n",
       "      <td>6.508324099999999</td>\n",
       "      <td>3.3590397</td>\n",
       "      <td>13.822393</td>\n",
       "      <td>0.028715</td>\n",
       "    </tr>\n",
       "  </tbody>\n",
       "</table>\n",
       "</div>"
      ],
      "text/plain": [
       "   Trip ID                         Trip Origin  \\\n",
       "0   391996  6.508813001668548,3.37740316890347   \n",
       "1   391997                 6.4316714,3.4555375   \n",
       "2   391998         6.631679399999999,3.3388976   \n",
       "\n",
       "                  Trip Destination     Trip Start Time       Trip End Time  \\\n",
       "0      6.650969799999999,3.3450307 2021-07-01 07:28:04 2021-07-01 07:29:37   \n",
       "1  6.4280814653326,3.4721885847586 2021-07-01 06:38:04 2021-07-01 07:07:28   \n",
       "2      6.508324099999999,3.3590397 2021-07-01 06:21:02 2021-07-01 07:02:23   \n",
       "\n",
       "     Trip_Origin_lat   Trip_Origin_lng     Trip_Destn_lat   Trip_Destn_lng  \\\n",
       "0  6.508813001668548  3.37740316890347  6.650969799999999        3.3450307   \n",
       "1          6.4316714         3.4555375    6.4280814653326  3.4721885847586   \n",
       "2  6.631679399999999         3.3388976  6.508324099999999        3.3590397   \n",
       "\n",
       "    Distance     Speed  \n",
       "0  16.123451  0.001076  \n",
       "1   1.884305  0.020417  \n",
       "2  13.822393  0.028715  "
      ]
     },
     "execution_count": 59,
     "metadata": {},
     "output_type": "execute_result"
    }
   ],
   "source": [
    "nbdf.head(3)"
   ]
  },
  {
   "cell_type": "markdown",
   "id": "53417a9e",
   "metadata": {},
   "source": [
    "###### Merging the datasets"
   ]
  },
  {
   "cell_type": "code",
   "execution_count": 61,
   "id": "502fe827",
   "metadata": {},
   "outputs": [],
   "source": [
    "merged_df = nbdf.merge(driv_loc_df, how='inner', left_on ='Trip ID', right_on ='order_id')"
   ]
  },
  {
   "cell_type": "code",
   "execution_count": 63,
   "id": "a0220d48",
   "metadata": {},
   "outputs": [],
   "source": [
    "merged_df = merged_df.drop ('id',axis=1)"
   ]
  },
  {
   "cell_type": "code",
   "execution_count": 64,
   "id": "60a0c592",
   "metadata": {},
   "outputs": [
    {
     "data": {
      "text/html": [
       "<div>\n",
       "<style scoped>\n",
       "    .dataframe tbody tr th:only-of-type {\n",
       "        vertical-align: middle;\n",
       "    }\n",
       "\n",
       "    .dataframe tbody tr th {\n",
       "        vertical-align: top;\n",
       "    }\n",
       "\n",
       "    .dataframe thead th {\n",
       "        text-align: right;\n",
       "    }\n",
       "</style>\n",
       "<table border=\"1\" class=\"dataframe\">\n",
       "  <thead>\n",
       "    <tr style=\"text-align: right;\">\n",
       "      <th></th>\n",
       "      <th>Trip ID</th>\n",
       "      <th>Trip Origin</th>\n",
       "      <th>Trip Destination</th>\n",
       "      <th>Trip Start Time</th>\n",
       "      <th>Trip End Time</th>\n",
       "      <th>Trip_Origin_lat</th>\n",
       "      <th>Trip_Origin_lng</th>\n",
       "      <th>Trip_Destn_lat</th>\n",
       "      <th>Trip_Destn_lng</th>\n",
       "      <th>Distance</th>\n",
       "      <th>Speed</th>\n",
       "      <th>order_id</th>\n",
       "      <th>driver_id</th>\n",
       "      <th>driver_action</th>\n",
       "      <th>lat</th>\n",
       "      <th>lng</th>\n",
       "    </tr>\n",
       "  </thead>\n",
       "  <tbody>\n",
       "    <tr>\n",
       "      <th>0</th>\n",
       "      <td>392001</td>\n",
       "      <td>6.6010417,3.2766339</td>\n",
       "      <td>6.4501069,3.3916154</td>\n",
       "      <td>2021-07-01 09:30:59</td>\n",
       "      <td>2021-07-01 09:34:36</td>\n",
       "      <td>6.6010417</td>\n",
       "      <td>3.2766339</td>\n",
       "      <td>6.4501069</td>\n",
       "      <td>3.3916154</td>\n",
       "      <td>20.984319</td>\n",
       "      <td>0.002512</td>\n",
       "      <td>392001</td>\n",
       "      <td>243828</td>\n",
       "      <td>accepted</td>\n",
       "      <td>6.602207</td>\n",
       "      <td>3.270465</td>\n",
       "    </tr>\n",
       "    <tr>\n",
       "      <th>1</th>\n",
       "      <td>392001</td>\n",
       "      <td>6.6010417,3.2766339</td>\n",
       "      <td>6.4501069,3.3916154</td>\n",
       "      <td>2021-07-01 09:30:59</td>\n",
       "      <td>2021-07-01 09:34:36</td>\n",
       "      <td>6.6010417</td>\n",
       "      <td>3.2766339</td>\n",
       "      <td>6.4501069</td>\n",
       "      <td>3.3916154</td>\n",
       "      <td>20.984319</td>\n",
       "      <td>0.002512</td>\n",
       "      <td>392001</td>\n",
       "      <td>243588</td>\n",
       "      <td>rejected</td>\n",
       "      <td>6.592097</td>\n",
       "      <td>3.287445</td>\n",
       "    </tr>\n",
       "    <tr>\n",
       "      <th>2</th>\n",
       "      <td>392001</td>\n",
       "      <td>6.6010417,3.2766339</td>\n",
       "      <td>6.4501069,3.3916154</td>\n",
       "      <td>2021-07-01 09:30:59</td>\n",
       "      <td>2021-07-01 09:34:36</td>\n",
       "      <td>6.6010417</td>\n",
       "      <td>3.2766339</td>\n",
       "      <td>6.4501069</td>\n",
       "      <td>3.3916154</td>\n",
       "      <td>20.984319</td>\n",
       "      <td>0.002512</td>\n",
       "      <td>392001</td>\n",
       "      <td>243830</td>\n",
       "      <td>rejected</td>\n",
       "      <td>6.596133</td>\n",
       "      <td>3.281784</td>\n",
       "    </tr>\n",
       "  </tbody>\n",
       "</table>\n",
       "</div>"
      ],
      "text/plain": [
       "   Trip ID          Trip Origin     Trip Destination     Trip Start Time  \\\n",
       "0   392001  6.6010417,3.2766339  6.4501069,3.3916154 2021-07-01 09:30:59   \n",
       "1   392001  6.6010417,3.2766339  6.4501069,3.3916154 2021-07-01 09:30:59   \n",
       "2   392001  6.6010417,3.2766339  6.4501069,3.3916154 2021-07-01 09:30:59   \n",
       "\n",
       "        Trip End Time Trip_Origin_lat Trip_Origin_lng Trip_Destn_lat  \\\n",
       "0 2021-07-01 09:34:36       6.6010417       3.2766339      6.4501069   \n",
       "1 2021-07-01 09:34:36       6.6010417       3.2766339      6.4501069   \n",
       "2 2021-07-01 09:34:36       6.6010417       3.2766339      6.4501069   \n",
       "\n",
       "  Trip_Destn_lng   Distance     Speed  order_id  driver_id driver_action  \\\n",
       "0      3.3916154  20.984319  0.002512    392001     243828      accepted   \n",
       "1      3.3916154  20.984319  0.002512    392001     243588      rejected   \n",
       "2      3.3916154  20.984319  0.002512    392001     243830      rejected   \n",
       "\n",
       "        lat       lng  \n",
       "0  6.602207  3.270465  \n",
       "1  6.592097  3.287445  \n",
       "2  6.596133  3.281784  "
      ]
     },
     "execution_count": 64,
     "metadata": {},
     "output_type": "execute_result"
    }
   ],
   "source": [
    "merged_df.head(3)"
   ]
  },
  {
   "cell_type": "code",
   "execution_count": 65,
   "id": "144ed1e5",
   "metadata": {},
   "outputs": [],
   "source": [
    "#save the new dataset\n",
    "merged_df.to_csv('../data/trip-order.csv')"
   ]
  },
  {
   "cell_type": "code",
   "execution_count": 67,
   "id": "15d9eeaa",
   "metadata": {},
   "outputs": [],
   "source": [
    "df = pd.read_csv('../data/trip-order.csv')"
   ]
  },
  {
   "cell_type": "code",
   "execution_count": 68,
   "id": "edf9821a",
   "metadata": {},
   "outputs": [
    {
     "name": "stdout",
     "output_type": "stream",
     "text": [
      "<class 'pandas.core.frame.DataFrame'>\n",
      "RangeIndex: 1555718 entries, 0 to 1555717\n",
      "Data columns (total 17 columns):\n",
      " #   Column            Non-Null Count    Dtype  \n",
      "---  ------            --------------    -----  \n",
      " 0   Unnamed: 0        1555718 non-null  int64  \n",
      " 1   Trip ID           1555718 non-null  int64  \n",
      " 2   Trip Origin       1555718 non-null  object \n",
      " 3   Trip Destination  1555718 non-null  object \n",
      " 4   Trip Start Time   1555718 non-null  object \n",
      " 5   Trip End Time     1555718 non-null  object \n",
      " 6   Trip_Origin_lat   1555718 non-null  float64\n",
      " 7   Trip_Origin_lng   1555718 non-null  float64\n",
      " 8   Trip_Destn_lat    1555718 non-null  float64\n",
      " 9   Trip_Destn_lng    1555718 non-null  float64\n",
      " 10  Distance          1555718 non-null  float64\n",
      " 11  Speed             1555718 non-null  float64\n",
      " 12  order_id          1555718 non-null  int64  \n",
      " 13  driver_id         1555718 non-null  int64  \n",
      " 14  driver_action     1555718 non-null  object \n",
      " 15  lat               1555718 non-null  float64\n",
      " 16  lng               1555718 non-null  float64\n",
      "dtypes: float64(8), int64(4), object(5)\n",
      "memory usage: 201.8+ MB\n"
     ]
    }
   ],
   "source": [
    "df.info()"
   ]
  },
  {
   "cell_type": "markdown",
   "id": "31cb3f44",
   "metadata": {},
   "source": [
    "###### Adding more features"
   ]
  },
  {
   "cell_type": "code",
   "execution_count": 69,
   "id": "816b76f1",
   "metadata": {},
   "outputs": [],
   "source": [
    "df['Trip Start Time']= pd.to_datetime(df['Trip Start Time'])\n",
    "df['Trip End Time']= pd.to_datetime(df['Trip End Time'])"
   ]
  },
  {
   "cell_type": "code",
   "execution_count": 70,
   "id": "76a0e65f",
   "metadata": {},
   "outputs": [],
   "source": [
    "# adding month\n",
    "df['Month'] = df['Trip Start Time'].dt.month_name()\n",
    "df['Day'] = df['Trip Start Time'].dt.day_name()\n",
    "df['Hour'] = df['Trip Start Time'].dt.hour\n",
    "df['Date'] = df['Trip Start Time'].dt.date"
   ]
  },
  {
   "cell_type": "code",
   "execution_count": 71,
   "id": "4822bf43",
   "metadata": {},
   "outputs": [],
   "source": [
    "df[\"Weekday\"] =  df[\"Trip Start Time\"].dt.dayofweek"
   ]
  },
  {
   "cell_type": "code",
   "execution_count": 72,
   "id": "92867a3a",
   "metadata": {},
   "outputs": [
    {
     "data": {
      "text/plain": [
       "July         1555355\n",
       "August           217\n",
       "February          76\n",
       "September         66\n",
       "January            4\n",
       "Name: Month, dtype: int64"
      ]
     },
     "execution_count": 72,
     "metadata": {},
     "output_type": "execute_result"
    }
   ],
   "source": [
    "df.Month.value_counts()"
   ]
  },
  {
   "cell_type": "code",
   "execution_count": 73,
   "id": "540d519d",
   "metadata": {},
   "outputs": [
    {
     "data": {
      "text/plain": [
       "Tuesday      360267\n",
       "Friday       320412\n",
       "Thursday     275498\n",
       "Wednesday    238931\n",
       "Monday       160734\n",
       "Saturday     142542\n",
       "Sunday        57334\n",
       "Name: Day, dtype: int64"
      ]
     },
     "execution_count": 73,
     "metadata": {},
     "output_type": "execute_result"
    }
   ],
   "source": [
    "df.Day.value_counts()"
   ]
  },
  {
   "cell_type": "markdown",
   "id": "911c0d93",
   "metadata": {},
   "source": [
    "##### Exploration"
   ]
  },
  {
   "cell_type": "code",
   "execution_count": 75,
   "id": "57e63991",
   "metadata": {},
   "outputs": [],
   "source": [
    "def plot_hist(df:pd.DataFrame, column:str, color:str)->None:\n",
    "    # plt.figure(figsize=(15, 10))\n",
    "    # fig, ax = plt.subplots(1, figsize=(12, 7))\n",
    "    sns.displot(data=df, x=column, color=color, kde=True, height=7, aspect=2)\n",
    "    plt.title(f'Distribution of {column}', size=20, fontweight='bold')\n",
    "    plt.show()\n",
    "\n",
    "def plot_count(df:pd.DataFrame, column:str) -> None:\n",
    "    plt.figure(figsize=(12, 7))\n",
    "    sns.countplot(data=df, x=column)\n",
    "    plt.title(f'Distribution of {column}', size=20, fontweight='bold')\n",
    "    plt.show()\n",
    "    \n",
    "def plot_bar(df:pd.DataFrame, x_col:str, y_col:str, title:str, xlabel:str, ylabel:str)->None:\n",
    "    plt.figure(figsize=(12, 7))\n",
    "    sns.barplot(data = df, x=x_col, y=y_col)\n",
    "    plt.title(title, size=20)\n",
    "    plt.xticks(rotation=75, fontsize=14)\n",
    "    plt.yticks( fontsize=14)\n",
    "    plt.xlabel(xlabel, fontsize=16)\n",
    "    plt.ylabel(ylabel, fontsize=16)\n",
    "    plt.show()\n"
   ]
  },
  {
   "cell_type": "code",
   "execution_count": 76,
   "id": "2211cc0b",
   "metadata": {},
   "outputs": [
    {
     "data": {
      "image/png": "[encoded data removed]",
      "text/plain": [
       "<Figure size 864x504 with 1 Axes>"
      ]
     },
     "metadata": {
      "needs_background": "light"
     },
     "output_type": "display_data"
    }
   ],
   "source": [
    "#plt.title(f'Driver action analysis', size=20, fontweight='bold')\n",
    "plot_count(df, 'driver_action')"
   ]
  },
  {
   "cell_type": "code",
   "execution_count": 90,
   "id": "798de050",
   "metadata": {},
   "outputs": [
    {
     "data": {
      "image/png": "[encoded data removed]",
      "text/plain": [
       "<Figure size 864x504 with 1 Axes>"
      ]
     },
     "metadata": {
      "needs_background": "light"
     },
     "output_type": "display_data"
    }
   ],
   "source": [
    "plot_count(df, 'Month')"
   ]
  },
  {
   "cell_type": "code",
   "execution_count": null,
   "id": "532862b1",
   "metadata": {},
   "outputs": [],
   "source": [
    "# Speed analysis\n",
    "plot_hist(df,'Speed','blue')\n",
    "sns.displot(df, x=\"Speed\")"
   ]
  },
  {
   "cell_type": "code",
   "execution_count": 86,
   "id": "845a5d68",
   "metadata": {},
   "outputs": [
    {
     "data": {
      "text/plain": [
       "<seaborn.axisgrid.FacetGrid at 0x2749b718d60>"
      ]
     },
     "execution_count": 86,
     "metadata": {},
     "output_type": "execute_result"
    },
    {
     "data": {
      "image/png": "[encoded data removed]",
      "text/plain": [
       "<Figure size 469.75x360 with 1 Axes>"
      ]
     },
     "metadata": {
      "needs_background": "light"
     },
     "output_type": "display_data"
    }
   ],
   "source": [
    "# Distance analysis\n",
    "sns.displot(df)"
   ]
  },
  {
   "cell_type": "code",
   "execution_count": null,
   "id": "86c027f4",
   "metadata": {},
   "outputs": [],
   "source": []
  }
 ],
 "metadata": {
  "kernelspec": {
   "display_name": "Python 3 (ipykernel)",
   "language": "python",
   "name": "python3"
  },
  "language_info": {
   "codemirror_mode": {
    "name": "ipython",
    "version": 3
   },
   "file_extension": ".py",
   "mimetype": "text/x-python",
   "name": "python",
   "nbconvert_exporter": "python",
   "pygments_lexer": "ipython3",
   "version": "3.9.12"
  }
 },
 "nbformat": 4,
 "nbformat_minor": 5
}
